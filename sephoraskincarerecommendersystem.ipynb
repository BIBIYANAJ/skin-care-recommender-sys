{
 "cells": [
  {
   "cell_type": "code",
   "execution_count": null,
   "id": "70a9ac89-b9f0-432f-8b79-d143e35266f5",
   "metadata": {},
   "outputs": [],
   "source": [
    "import numpy as np\n",
    "import pandas as pd"
   ]
  },
  {
   "cell_type": "code",
   "execution_count": null,
   "id": "221762de-fe3a-428e-add1-64876f6badb3",
   "metadata": {},
   "outputs": [],
   "source": [
    "products =pd.read_csv('product_info.csv')\n",
    "reviews1 =pd.read_csv('reviews1.csv')\n",
    "reviews2 =pd.read_csv('reviews2.csv')"
   ]
  },
  {
   "cell_type": "code",
   "execution_count": null,
   "id": "56d4d783-5246-4cf5-9bf4-c45c218ffc83",
   "metadata": {},
   "outputs": [],
   "source": [
    "products.head(5)"
   ]
  },
  {
   "cell_type": "code",
   "execution_count": null,
   "id": "154b647e-93ce-4156-95fe-19fb4d3436ab",
   "metadata": {},
   "outputs": [],
   "source": [
    "products.shape"
   ]
  },
  {
   "cell_type": "code",
   "execution_count": null,
   "id": "94ae7aaa-11b0-40bb-8c43-eca41b197547",
   "metadata": {},
   "outputs": [],
   "source": [
    "products.info"
   ]
  },
  {
   "cell_type": "code",
   "execution_count": null,
   "id": "3d75ebd8-f362-4efe-99a2-265a767b21e6",
   "metadata": {},
   "outputs": [],
   "source": [
    "top_products = products[products['loves_count']>=250].sort_values('rating',ascending=False).head(50)\n",
    "top_products = products.sort_values('loves_count',ascending=False).head(50)\n",
    "top_products"
   ]
  },
  {
   "cell_type": "code",
   "execution_count": null,
   "id": "bd435a08-f2de-4f7f-80bb-469f0ec50ecb",
   "metadata": {},
   "outputs": [],
   "source": [
    "df = top_products[['product_name','brand_name','loves_count','rating','price_usd']]\n",
    "df"
   ]
  },
  {
   "cell_type": "code",
   "execution_count": null,
   "id": "b46fdfe3-71f9-4543-b630-8f5cccf6b60b",
   "metadata": {},
   "outputs": [],
   "source": [
    "from sklearn.feature_extraction.text import CountVectorizer\n",
    "cv = CountVectorizer(max_features=5000,stop_words='english')"
   ]
  },
  {
   "cell_type": "code",
   "execution_count": null,
   "id": "36028cc6-5702-40fb-93cf-db311d2ba8c8",
   "metadata": {},
   "outputs": [],
   "source": [
    "vectors = cv.fit_transform(products['product_name']).toarray()\n"
   ]
  },
  {
   "cell_type": "code",
   "execution_count": null,
   "id": "8968d5ee-463c-4f33-8fd2-6b2e27964cac",
   "metadata": {},
   "outputs": [],
   "source": [
    "vectors[0]"
   ]
  },
  {
   "cell_type": "code",
   "execution_count": null,
   "id": "f450d247-12b7-4d89-8597-07a54fda1a9f",
   "metadata": {},
   "outputs": [],
   "source": [
    "import nltk"
   ]
  },
  {
   "cell_type": "code",
   "execution_count": null,
   "id": "abfe5ad1-3566-47f7-969a-394cbba81b58",
   "metadata": {},
   "outputs": [],
   "source": [
    "from nltk.stem.porter import PorterStemmer\n",
    "ps = PorterStemmer()"
   ]
  },
  {
   "cell_type": "code",
   "execution_count": null,
   "id": "9b6a10be-3d75-4977-aa23-731b4632cb09",
   "metadata": {},
   "outputs": [],
   "source": [
    "def stem(text):\n",
    "    y=[]\n",
    "    for i in text.split():\n",
    "        y.append(ps.stem(i))\n",
    "\n",
    "    return \" \".join(y)"
   ]
  },
  {
   "cell_type": "code",
   "execution_count": null,
   "id": "577392c0-4a91-4923-ba4c-861e6f839156",
   "metadata": {},
   "outputs": [],
   "source": [
    "products['product_name'].apply(stem)"
   ]
  },
  {
   "cell_type": "code",
   "execution_count": null,
   "id": "74fcfba0-2c8a-4dc4-9488-1cd70066930e",
   "metadata": {},
   "outputs": [],
   "source": [
    "products['product_name'][0]"
   ]
  },
  {
   "cell_type": "code",
   "execution_count": null,
   "id": "aee6bc80-004b-4e86-b921-d2b7c1d57d2c",
   "metadata": {},
   "outputs": [],
   "source": [
    "stem('Fragrance Discovery Set')"
   ]
  },
  {
   "cell_type": "code",
   "execution_count": null,
   "id": "cf1d40d1-bc6c-4a03-9ec9-74a2a24f06b0",
   "metadata": {},
   "outputs": [],
   "source": [
    "from sklearn.metrics.pairwise import cosine_similarity"
   ]
  },
  {
   "cell_type": "code",
   "execution_count": null,
   "id": "9075bc15-1149-4081-87b2-a5774dd7a51b",
   "metadata": {},
   "outputs": [],
   "source": [
    "similarity = cosine_similarity(vectors)"
   ]
  },
  {
   "cell_type": "code",
   "execution_count": null,
   "id": "dce22802-fe8e-4d61-b618-2f23b03078ee",
   "metadata": {},
   "outputs": [],
   "source": [
    "sorted(list(enumerate(similarity[0])),reverse=True,key=lambda x:x[1])[1:6]"
   ]
  },
  {
   "cell_type": "code",
   "execution_count": null,
   "id": "dd4dddf9-c65b-4b01-97ee-0df905c2b676",
   "metadata": {},
   "outputs": [],
   "source": [
    "def recommend(m):\n",
    "    pro_index = products[products['product_name'] == m].index[0]\n",
    "    distances = similarity[pro_index]\n",
    "    pro_list = sorted(list(enumerate(distances)),reverse=True,key=lambda x:x[1])[1:6]\n",
    "    for i in pro_list:\n",
    "        print(products.iloc[i[0]].product_name)"
   ]
  },
  {
   "cell_type": "code",
   "execution_count": null,
   "id": "6736563a-abaa-4a04-ac1a-35d23601e692",
   "metadata": {},
   "outputs": [],
   "source": [
    "recommend('Fragrance Discovery Set')"
   ]
  },
  {
   "cell_type": "code",
   "execution_count": null,
   "id": "cf6a8082-8790-4a94-a7d9-c316822536d6",
   "metadata": {},
   "outputs": [],
   "source": [
    "products.iloc[1216].product_name"
   ]
  },
  {
   "cell_type": "code",
   "execution_count": null,
   "id": "d1058ba2-b971-4d1e-8230-8e5df7cc0d2e",
   "metadata": {},
   "outputs": [],
   "source": [
    "import pickle"
   ]
  },
  {
   "cell_type": "code",
   "execution_count": null,
   "id": "d179fa09-d7a7-483a-8bbc-9eacd5c7af57",
   "metadata": {},
   "outputs": [],
   "source": [
    "pro_list = pickle.dump(products.to_dict(),open('pro.pkl','wb'))\n",
    "pickle.dump(similarity,open('similarity.pkl','wb'))\n",
    "pro_list"
   ]
  },
  {
   "cell_type": "code",
   "execution_count": null,
   "id": "a07ea0c2-b61e-4db3-b74b-826ca004f045",
   "metadata": {},
   "outputs": [],
   "source": [
    "top_product_dict = pickle.load(open('top_products.pkl', 'rb')) # Assuming top_product.pkl contains your top products data\n",
    "top_products = pd.DataFrame(top_product_dict)"
   ]
  },
  {
   "cell_type": "code",
   "execution_count": null,
   "id": "7e118dc1-371d-485e-ac1f-c6f1c0319fe3",
   "metadata": {},
   "outputs": [],
   "source": [
    "top_product_dict = pickle.dump(top_products.to_dict(),open('top_products.pkl','wb'))"
   ]
  },
  {
   "cell_type": "code",
   "execution_count": null,
   "id": "b5367087-636f-4103-bc29-a02dc147eaed",
   "metadata": {},
   "outputs": [],
   "source": []
  }
 ],
 "metadata": {
  "kernelspec": {
   "display_name": "Python 3 (ipykernel)",
   "language": "python",
   "name": "python3"
  },
  "language_info": {
   "codemirror_mode": {
    "name": "ipython",
    "version": 3
   },
   "file_extension": ".py",
   "mimetype": "text/x-python",
   "name": "python",
   "nbconvert_exporter": "python",
   "pygments_lexer": "ipython3",
   "version": "3.9.18"
  }
 },
 "nbformat": 4,
 "nbformat_minor": 5
}
